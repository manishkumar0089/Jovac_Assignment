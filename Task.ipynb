{
 "cells": [
  {
   "cell_type": "code",
   "execution_count": 1,
   "id": "df3adce5",
   "metadata": {},
   "outputs": [],
   "source": [
    "import csv\n",
    "\n",
    "# 1. Define a custom exception\n",
    "class InvalidDataException(Exception):\n",
    "    \"\"\"Custom exception for invalid data in the 2D array.\"\"\"\n",
    "    def __init__(self, message=\"Data is invalid. Only integers are allowed.\"):\n",
    "        self.message = message\n",
    "        super().__init__(self.message)"
   ]
  },
  {
   "cell_type": "code",
   "execution_count": null,
   "id": "4787d309",
   "metadata": {},
   "outputs": [],
   "source": [
    "\n",
    "# 2. Create a 2D array \n",
    "data = [\n",
    "    [1, 2, 3],\n",
    "    [4, 5, 'six'],  \n",
    "    [7, 8, 9]\n",
    "]\n",
    "\n",
    "def validate_2d_array(array):\n",
    "    for row in array:\n",
    "        for item in row:\n",
    "            if not isinstance(item, int):\n",
    "                raise InvalidDataException(f\"Invalid item found: {item}\")"
   ]
  },
  {
   "cell_type": "code",
   "execution_count": null,
   "id": "fc9e4709",
   "metadata": {},
   "outputs": [
    {
     "name": "stdout",
     "output_type": "stream",
     "text": [
      "Custom Exception Caught: Invalid item found: six\n"
     ]
    }
   ],
   "source": [
    "def write_to_csv(filename, array):\n",
    "    with open(filename, mode='w', newline='') as file:\n",
    "        writer = csv.writer(file)\n",
    "        writer.writerows(array)\n",
    "    print(f\"Data written to {filename}\")\n",
    "\n",
    "def read_from_csv(filename):\n",
    "    with open(filename, mode='r') as file:\n",
    "        reader = csv.reader(file)\n",
    "        data = [list(map(int, row)) for row in reader]  # Convert strings to int\n",
    "    print(f\"Data read from {filename}:\")\n",
    "    return data\n",
    "\n",
    "# --- Run the functions ---\n",
    "try:\n",
    "    validate_2d_array(data)  \n",
    "    write_to_csv(\"array_output.csv\", data)\n",
    "    loaded_data = read_from_csv(\"array_output.csv\")\n",
    "    print(loaded_data)\n",
    "\n",
    "except InvalidDataException as e:\n",
    "    print(f\"Custom Exception Caught: {e}\")\n",
    "except Exception as e:\n",
    "    print(f\"General Exception: {e}\")"
   ]
  },
  {
   "cell_type": "code",
   "execution_count": null,
   "id": "38ddb72b",
   "metadata": {},
   "outputs": [],
   "source": []
  }
 ],
 "metadata": {
  "kernelspec": {
   "display_name": "base",
   "language": "python",
   "name": "python3"
  },
  "language_info": {
   "codemirror_mode": {
    "name": "ipython",
    "version": 3
   },
   "file_extension": ".py",
   "mimetype": "text/x-python",
   "name": "python",
   "nbconvert_exporter": "python",
   "pygments_lexer": "ipython3",
   "version": "3.9.12"
  }
 },
 "nbformat": 4,
 "nbformat_minor": 5
}
