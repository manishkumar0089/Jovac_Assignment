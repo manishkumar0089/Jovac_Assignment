{
 "cells": [
  {
   "cell_type": "code",
   "execution_count": 2,
   "id": "37642e71",
   "metadata": {},
   "outputs": [
    {
     "name": "stdout",
     "output_type": "stream",
     "text": [
      "1D Array:\n",
      "[ 1  2  3  4  5  6  7  8  9 10]\n",
      "Shape: (10,)\n",
      "Size: 10\n",
      "Data Type: int64\n",
      "\n",
      "2D Array:\n",
      "[[1 2 3]\n",
      " [4 5 6]\n",
      " [7 8 9]]\n",
      "Shape: (3, 3)\n",
      "Size: 9\n",
      "Data Type: int64\n",
      "\n",
      "3D Array:\n",
      "[[[0.10271949 0.60404169 0.00507908]\n",
      "  [0.03736974 0.00422527 0.69221951]\n",
      "  [0.47654241 0.58159863 0.92507359]\n",
      "  [0.53615752 0.89037666 0.13666498]\n",
      "  [0.24195139 0.38542127 0.84492592]]\n",
      "\n",
      " [[0.67606274 0.06012056 0.05238238]\n",
      "  [0.81777213 0.87214186 0.4033052 ]\n",
      "  [0.67321976 0.36971135 0.06926677]\n",
      "  [0.07394846 0.08726302 0.45054485]\n",
      "  [0.83273108 0.05766157 0.73607438]]\n",
      "\n",
      " [[0.40355973 0.78017386 0.57744721]\n",
      "  [0.93097422 0.90779165 0.5900225 ]\n",
      "  [0.96346893 0.19327145 0.58129382]\n",
      "  [0.89325954 0.89694887 0.10544226]\n",
      "  [0.01008108 0.81923843 0.97601477]]]\n",
      "Shape: (3, 5, 3)\n",
      "Size: 45\n",
      "Data Type: float64\n",
      "\n"
     ]
    }
   ],
   "source": [
    "# Task 1: Creating Arrays\n",
    "# 1. Write a Python program to:\n",
    "# o Create a 1D NumPy array of 10 integers ranging from 1 to 10.\n",
    "# o Create a 2D NumPy array of shape (3, 3) with integers from 1 to 9.\n",
    "# o Create a 3D NumPy array with random floating-point numbers of shape (3, 5, 3).\n",
    "# 2. Display the shape, size, and datatype of each array.\n",
    "\n",
    "import numpy as np\n",
    "array_1d = np.arange(1, 11)\n",
    "array_2d = np.arange(1, 10).reshape(3, 3)\n",
    "array_3d = np.random.rand(3, 5, 3)\n",
    "\n",
    "# Display\n",
    "def display_info(name, array):\n",
    "    print(f\"{name}:\\n{array}\")\n",
    "    print(f\"Shape: {array.shape}\")\n",
    "    print(f\"Size: {array.size}\")\n",
    "    print(f\"Data Type: {array.dtype}\")\n",
    "    print()\n",
    "\n",
    "# Display\n",
    "display_info(\"1D Array\", array_1d)\n",
    "display_info(\"2D Array\", array_2d)\n",
    "display_info(\"3D Array\", array_3d)\n"
   ]
  },
  {
   "cell_type": "code",
   "execution_count": 3,
   "id": "3704dc35",
   "metadata": {},
   "outputs": [
    {
     "name": "stdout",
     "output_type": "stream",
     "text": [
      "Original Array: [10 20 30 40 50 60 70 80 90]\n",
      "First Three Elements: [10 20 30]\n",
      "Every Alternate Element: [10 30 50 70 90]\n",
      "Reversed Array: [90 80 70 60 50 40 30 20 10]\n"
     ]
    }
   ],
   "source": [
    "# Task 2: Array Indexing and Slicing\n",
    "# 1. Create a NumPy array from the following list:\n",
    "# data = [10, 20, 30, 40, 50, 60, 70, 80, 90]\n",
    "# 2. Write a Python program to:\n",
    "# o Retrieve the first three elements of the array.\n",
    "# o Retrieve every alternate element of the array.\n",
    "# o Reverse the array.\n",
    "# 3. Perform the above operations and display the results\n",
    "\n",
    "data = [10, 20, 30, 40, 50, 60, 70, 80, 90]\n",
    "array = np.array(data)\n",
    "first_three = array[:3]\n",
    "alternate_elements = array[::2]\n",
    "reversed_array = array[::-1]\n",
    "\n",
    "# Display \n",
    "print(\"Original Array:\", array)\n",
    "print(\"First Three Elements:\", first_three)\n",
    "print(\"Every Alternate Element:\", alternate_elements)\n",
    "print(\"Reversed Array:\", reversed_array)\n"
   ]
  },
  {
   "cell_type": "code",
   "execution_count": 4,
   "id": "e468729e",
   "metadata": {},
   "outputs": [
    {
     "name": "stdout",
     "output_type": "stream",
     "text": [
      "Array a: [10 16 17 17  9]\n",
      "Array b: [11 20 15  5  6]\n",
      "\n",
      "Addition: [21 36 32 22 15]\n",
      "Subtraction: [-1 -4  2 12  3]\n",
      "Multiplication: [110 320 255  85  54]\n",
      "Division: [0.90909091 0.8        1.13333333 3.4        1.5       ]\n",
      "\n",
      "Dot Product: 824\n",
      "\n",
      "In array a:\n",
      "Mean: 13.8\n",
      "Median: 16.0\n",
      "Standard Deviation: 3.54400902933387\n",
      "Variance: 12.559999999999999\n",
      "\n",
      "In array b:\n",
      "Maximum Value: 20 at Index: 1\n",
      "Minimum Value: 5 at Index: 3\n"
     ]
    }
   ],
   "source": [
    "# Task 3: Mathematical Operations\n",
    "# 1. Create two NumPy arrays, A and B, each with 5 random integers between 1 and 20.\n",
    "# 2. Write a Python program to:\n",
    "# o Add, subtract, multiply, and divide the two arrays element-wise.\n",
    "# o Compute the dot product of the arrays.\n",
    "# o Find the mean, median, standard deviation, and variance of array A.\n",
    "# o Identify the maximum and minimum values in array B and their indices.\n",
    "\n",
    "a = np.random.randint(1, 21, 5)\n",
    "b = np.random.randint(1, 21, 5)\n",
    "\n",
    "add = a + b\n",
    "subtract = a - b\n",
    "multiply = a * b\n",
    "divide = a / b \n",
    "\n",
    "dot_product = np.dot(a, b)\n",
    "\n",
    "mean_A = np.mean(a)\n",
    "median_A = np.median(a)\n",
    "std_A = np.std(a)\n",
    "var_A = np.var(a)\n",
    "\n",
    "max_B = np.max(b)\n",
    "min_B = np.min(b)\n",
    "max_index = np.argmax(b)\n",
    "min_index = np.argmin(b)\n",
    "\n",
    "# Display \n",
    "print(\"Array a:\", a)\n",
    "print(\"Array b:\", b)\n",
    "\n",
    "print(\"\\nAddition:\", add)\n",
    "print(\"Subtraction:\", subtract)\n",
    "print(\"Multiplication:\", multiply)\n",
    "print(\"Division:\", divide)\n",
    "\n",
    "print(\"\\nDot Product:\", dot_product)\n",
    "\n",
    "print(\"\\nIn array a:\")\n",
    "print(\"Mean:\", mean_A)\n",
    "print(\"Median:\", median_A)\n",
    "print(\"Standard Deviation:\", std_A)\n",
    "print(\"Variance:\", var_A)\n",
    "\n",
    "print(\"\\nIn array b:\")\n",
    "print(\"Maximum Value:\", max_B, \"at Index:\", max_index)\n",
    "print(\"Minimum Value:\", min_B, \"at Index:\", min_index)\n"
   ]
  },
  {
   "cell_type": "code",
   "execution_count": 5,
   "id": "7464507c",
   "metadata": {},
   "outputs": [
    {
     "name": "stdout",
     "output_type": "stream",
     "text": [
      "1D Array: [ 1  2  3  4  5  6  7  8  9 10 11 12]\n",
      "\n",
      "Reshaped 2D Array (4,3):\n",
      " [[ 1  2  3]\n",
      " [ 4  5  6]\n",
      " [ 7  8  9]\n",
      " [10 11 12]]\n",
      "\n",
      "Reshaped 3D Array (2,2,3):\n",
      " [[[ 1  2  3]\n",
      "  [ 4  5  6]]\n",
      "\n",
      " [[ 7  8  9]\n",
      "  [10 11 12]]]\n",
      "\n",
      "Transposed 2D Array:\n",
      " [[ 1  4  7 10]\n",
      " [ 2  5  8 11]\n",
      " [ 3  6  9 12]]\n",
      "\n",
      "Shape of Transposed Array: (3, 4)\n"
     ]
    }
   ],
   "source": [
    "\n",
    "# Task 4: Reshaping and Transposing\n",
    "# 1. Create a 1D NumPy array of 12 integers ranging from 1 to 12.\n",
    "# 2. Write a Python program to:\n",
    "# o Reshape the array into a 2D array of shape (4, 3).\n",
    "# o Reshape the array into a 3D array of shape (2, 2, 3).\n",
    "# o Transpose the reshaped 2D array and display its shape.\n",
    "\n",
    "array_1d = np.arange(1, 13)\n",
    "array_2d = array_1d.reshape(4, 3)\n",
    "array_3d = array_1d.reshape(2, 2, 3)\n",
    "transposed_2d = array_2d.T \n",
    "\n",
    "# Display \n",
    "print(\"1D Array:\", array_1d)\n",
    "print(\"\\nReshaped 2D Array (4,3):\\n\", array_2d)\n",
    "print(\"\\nReshaped 3D Array (2,2,3):\\n\", array_3d)\n",
    "print(\"\\nTransposed 2D Array:\\n\", transposed_2d)\n",
    "print(\"\\nShape of Transposed Array:\", transposed_2d.shape)\n"
   ]
  },
  {
   "cell_type": "code",
   "execution_count": 6,
   "id": "b6721295",
   "metadata": {},
   "outputs": [
    {
     "name": "stdout",
     "output_type": "stream",
     "text": [
      "Array: [23 26 44 21 32 33 39 47 23 18 38 41 36 40 10]\n",
      "\n",
      "Elements greater than 25: [26 44 32 33 39 47 38 41 36 40]\n",
      "\n",
      "Modified Array (values < 30 set to 0): [ 0  0 44  0 32 33 39 47  0  0 38 41 36 40  0]\n",
      "\n",
      "Count of elements divisible by 5: 2\n"
     ]
    }
   ],
   "source": [
    "# Task 5: Boolean Masking and Filtering\n",
    "# 1. Create a NumPy array with 15 random integers between 10 and 50.\n",
    "# 2. Write a Python program to:\n",
    "# o Find all elements greater than 25.\n",
    "# o Replace all elements less than 30 with 0.\n",
    "# o Count the number of elements divisible by 5.\n",
    "\n",
    "array = np.random.randint(10,51,15)\n",
    "greater = array[array > 25]\n",
    "modified_array = np.where(array < 30,0,array)\n",
    "count = np.sum(array%5==0)\n",
    "\n",
    "# Display \n",
    "print(\"Array:\", array)\n",
    "print(\"\\nElements greater than 25:\", greater)\n",
    "print(\"\\nModified Array (values < 30 set to 0):\", modified_array)\n",
    "print(\"\\nCount of elements divisible by 5:\", count)"
   ]
  },
  {
   "cell_type": "code",
   "execution_count": 7,
   "id": "f5ca93f4",
   "metadata": {},
   "outputs": [
    {
     "name": "stdout",
     "output_type": "stream",
     "text": [
      "An Array of 10 equally spaced values between 0 and 1:\n",
      " [0.         0.11111111 0.22222222 0.33333333 0.44444444 0.55555556\n",
      " 0.66666667 0.77777778 0.88888889 1.        ]\n",
      "\n",
      "4x4 Identity Matrix:\n",
      " [[1. 0. 0. 0.]\n",
      " [0. 1. 0. 0.]\n",
      " [0. 0. 1. 0.]\n",
      " [0. 0. 0. 1.]]\n",
      "\n",
      "Random Array of 20 integers between 1 and 100: [29 61 33 26 97 39 29 68 69  4 38 71 98 10 77 49 87 41 19 70]\n",
      "\n",
      "Sorted Array: [ 4 10 19 26 29 29 33 38 39 41 49 61 68 69 70 71 77 87 97 98]\n",
      "\n",
      "the 5 largest elements in the array: [71 77 87 97 98]\n"
     ]
    }
   ],
   "source": [
    "# Task 6: Working with Built-in Functions\n",
    "# 1. Use NumPy's built-in functions to:\n",
    "# o Create an array of 10 equally spaced values between 0 and 1.\n",
    "# o Create an identity matrix of size 4x4.\n",
    "# o Generate a 1D array of 20 random integers between 1 and 100, sort it, and find the 5 largest elements.\n",
    "\n",
    "array = np.linspace(0, 1, 10) \n",
    "matrix = np.eye(4)\n",
    "array_2 = np.random.randint(1,101,20)\n",
    "sort_array = np.sort(array_2)\n",
    "largest_element = sort_array[-5:]\n",
    "\n",
    "# Display\n",
    "print(\"An Array of 10 equally spaced values between 0 and 1:\\n\", array)\n",
    "print(\"\\n4x4 Identity Matrix:\\n\", matrix)\n",
    "print(\"\\nRandom Array of 20 integers between 1 and 100:\", array_2)\n",
    "print(\"\\nSorted Array:\", sort_array)\n",
    "print(\"\\nthe 5 largest elements in the array:\", largest_element)"
   ]
  },
  {
   "cell_type": "code",
   "execution_count": 8,
   "id": "39b350b2",
   "metadata": {},
   "outputs": [
    {
     "name": "stdout",
     "output_type": "stream",
     "text": [
      "Matrix multiplication, determinant, and inverse operation completed.\n",
      "Determinant: -7.7407e+51\n",
      "Inverse computed successfully.\n",
      "Total time taken: 0.1023 seconds\n"
     ]
    }
   ],
   "source": [
    "# Task 7: Generic\n",
    "# 1. Create a Python program that:\n",
    "# o Generates two large random arrays of size (100, 100).\n",
    "# o Performs matrix multiplication on the two arrays.\n",
    "# o Finds the determinant and inverse of the resulting matrix (if possible).\n",
    "# o Measures the time taken to complete these operations.\n",
    "\n",
    "import time\n",
    "A = np.random.rand(100, 100)\n",
    "B = np.random.rand(100, 100)\n",
    "start_time = time.time()\n",
    "matrix_mul = np.matmul(A, B)\n",
    "det = np.linalg.det(matrix_mul)\n",
    "if det != 0:\n",
    "    inverse = np.linalg.inv(matrix_mul)\n",
    "    inverse_status = (\"Inverse computed successfully.\")\n",
    "else:\n",
    "    inverse_status = (\"Inverse does not exist.\")\n",
    "\n",
    "end_time = time.time()\n",
    "total_time = end_time - start_time\n",
    "\n",
    "# Display \n",
    "print(\"Matrix multiplication, determinant, and inverse operation completed.\")\n",
    "print(f\"Determinant: {det:.4e}\")\n",
    "print(inverse_status)\n",
    "print(f\"Total time taken: {total_time:.4f} seconds\")\n",
    "\n"
   ]
  }
 ],
 "metadata": {
  "kernelspec": {
   "display_name": "Python 3",
   "language": "python",
   "name": "python3"
  },
  "language_info": {
   "codemirror_mode": {
    "name": "ipython",
    "version": 3
   },
   "file_extension": ".py",
   "mimetype": "text/x-python",
   "name": "python",
   "nbconvert_exporter": "python",
   "pygments_lexer": "ipython3",
   "version": "3.13.2"
  }
 },
 "nbformat": 4,
 "nbformat_minor": 5
}
